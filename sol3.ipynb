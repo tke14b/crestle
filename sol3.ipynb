{
 "cells": [
  {
   "cell_type": "markdown",
   "metadata": {},
   "source": [
    "# Solution 3\n",
    "\n",
    "__Date:__ October 22, 2018\n",
    "\n",
    "<font color = gray>_Created by Tyler Evans_</font>"
   ]
  },
  {
   "cell_type": "markdown",
   "metadata": {},
   "source": [
    "***\n",
    "### Abstract:\n",
    "> In this solution, I use DeltaEta, DeltaPhi, Mass, EhadOverEem, and pT. I don't separate the jets into pT bins. \n",
    "> \n",
    "> After training a neural network, I make a ROC curve and I find the AUC. \n",
    ">\n",
    "> I also make a ratio plot for the gluon and quark pTs based off of their histograms.\n",
    "\n",
    "***"
   ]
  },
  {
   "cell_type": "markdown",
   "metadata": {},
   "source": [
    "## 0. Setup the notebook."
   ]
  },
  {
   "cell_type": "code",
   "execution_count": 1,
   "metadata": {},
   "outputs": [
    {
     "name": "stdout",
     "output_type": "stream",
     "text": [
      "Welcome to JupyROOT 6.12/06\n",
      "loaded treestream\n"
     ]
    }
   ],
   "source": [
    "import os, sys\n",
    "import ROOT as rt\n",
    "from string import split\n",
    "from ctypes import c_int, c_double\n",
    "from treestream import itreestream, otreestream\n",
    "\n",
    "import pandas as pd\n",
    "import numpy as np\n",
    "\n",
    "from sklearn.model_selection import train_test_split\n",
    "from sklearn.externals import joblib\n",
    "from sklearn.metrics import accuracy_score, roc_curve, roc_auc_score\n",
    "\n",
    "import matplotlib as mp\n",
    "import matplotlib.pyplot as plt\n",
    "import pylab as pl\n",
    "\n",
    "%matplotlib inline\n",
    "# turn off ROOT use of javascript\n",
    "%jsroot off"
   ]
  },
  {
   "cell_type": "markdown",
   "metadata": {},
   "source": [
    "## 1. Frame the problem and look at the big picture."
   ]
  },
  {
   "cell_type": "markdown",
   "metadata": {},
   "source": [
    "__Objective:__ Correctly discriminate between quark jets and gluon jets.\n",
    "\n",
    "__Type:__ Supervised, binary classification task, batch learning.\n",
    "\n",
    "__Performance measure:__ classification accuracy."
   ]
  },
  {
   "cell_type": "markdown",
   "metadata": {},
   "source": [
    "## 2. Get the data."
   ]
  },
  {
   "cell_type": "markdown",
   "metadata": {},
   "source": [
    "__Loading gluon-gluon events first.__"
   ]
  },
  {
   "cell_type": "code",
   "execution_count": 2,
   "metadata": {},
   "outputs": [
    {
     "data": {
      "text/plain": [
       "['Eta', 'Phi', 'PT', 'Mass', 'DeltaEta', 'DeltaPhi', 'EhadOverEem']"
      ]
     },
     "execution_count": 2,
     "metadata": {},
     "output_type": "execute_result"
    }
   ],
   "source": [
    "# update fonts\n",
    "FONTSIZE = 32\n",
    "font = {'family' : 'sans-serif',\n",
    "        'weight' : 'normal',\n",
    "        'size'   : 28}\n",
    "mp.rc('font', **font)\n",
    "\n",
    "\n",
    "#Load gluon-gluon data\n",
    "FILENAME_gluon = '../data/gg1.root'\n",
    "TREENAME_gluon = 'Delphes'\n",
    "\n",
    "#Load quark-quark data\n",
    "FILENAME_quark = '../data/qq1.root'\n",
    "TREENAME_quark = 'Delphes'\n",
    "\n",
    "MAXJETS  = 20\n",
    "VARIABLES= '''\n",
    "Eta Phi PT Mass DeltaEta DeltaPhi EhadOverEem\n",
    "'''\n",
    "VARIABLES = split(VARIABLES)\n",
    "VARIABLES"
   ]
  },
  {
   "cell_type": "code",
   "execution_count": 3,
   "metadata": {},
   "outputs": [
    {
     "name": "stderr",
     "output_type": "stream",
     "text": [
      "Warning in <TClass::Init>: no dictionary for class HepMCEvent is available\n",
      "Warning in <TClass::Init>: no dictionary for class Event is available\n",
      "Warning in <TClass::Init>: no dictionary for class GenParticle is available\n",
      "Warning in <TClass::Init>: no dictionary for class SortableObject is available\n",
      "Warning in <TClass::Init>: no dictionary for class Track is available\n",
      "Warning in <TClass::Init>: no dictionary for class Tower is available\n",
      "Warning in <TClass::Init>: no dictionary for class Jet is available\n",
      "Warning in <TClass::Init>: no dictionary for class MissingET is available\n",
      "Warning in <TClass::Init>: no dictionary for class Electron is available\n",
      "Warning in <TClass::Init>: no dictionary for class Photon is available\n",
      "Warning in <TClass::Init>: no dictionary for class Muon is available\n",
      "Warning in <TClass::Init>: no dictionary for class ScalarHT is available\n"
     ]
    }
   ],
   "source": [
    "gluon_stream = itreestream(FILENAME_gluon, TREENAME_gluon)\n",
    "\n",
    "quark_stream = itreestream(FILENAME_quark, TREENAME_quark)"
   ]
  },
  {
   "cell_type": "code",
   "execution_count": 4,
   "metadata": {},
   "outputs": [],
   "source": [
    "class Buffer:\n",
    "    pass\n",
    "Jet = Buffer()\n",
    "\n",
    "for v in VARIABLES:\n",
    "    cmd = 'Jet.%s = rt.vector(\"float\")(MAXJETS)' % v\n",
    "    exec(cmd)"
   ]
  },
  {
   "cell_type": "code",
   "execution_count": 5,
   "metadata": {},
   "outputs": [],
   "source": [
    "for v in VARIABLES:\n",
    "    cmd = 'gluon_stream.select(\"Jet.%s\", Jet.%s)' % (v, v)\n",
    "    exec(cmd)\n",
    "    \n",
    "for v in VARIABLES:\n",
    "    cmd = 'quark_stream.select(\"Jet.%s\", Jet.%s)' % (v, v)\n",
    "    exec(cmd)"
   ]
  },
  {
   "cell_type": "code",
   "execution_count": 6,
   "metadata": {},
   "outputs": [
    {
     "name": "stdout",
     "output_type": "stream",
     "text": [
      "number of gluon-gluon events: 10000\n",
      "number of quark-quark events: 10000\n"
     ]
    }
   ],
   "source": [
    "gluon_entries = gluon_stream.size()\n",
    "print \"number of gluon-gluon events: %d\" % gluon_entries\n",
    "\n",
    "quark_entries = quark_stream.size()\n",
    "print \"number of quark-quark events: %d\" % quark_entries"
   ]
  },
  {
   "cell_type": "code",
   "execution_count": 7,
   "metadata": {},
   "outputs": [],
   "source": [
    "def create_dataframe(nt, entries, step=500):\n",
    "    # create a map to hold selected jet data\n",
    "    data = {}\n",
    "    for v in VARIABLES:\n",
    "        cmd = 'data[\"%s\"] = []' % v\n",
    "        exec(cmd)\n",
    "\n",
    "    count = 0\n",
    "    for entry in range(entries):\n",
    "        nt.read(entry)\n",
    "    \n",
    "        # select jet data\n",
    "        if Jet.Eta.size() < 1: continue\n",
    "        #if Jet.PT[0] < 1000:    continue\n",
    "        #if abs(Jet.Eta[0]) > 0.5: continue\n",
    "      \n",
    "        if count % step == 0:\n",
    "            print \"%5d\\t%5d\\tnumber of jets: %d\" % (entry, count, Jet.Eta.size()),\n",
    "            if Jet.Eta.size() > 0:\n",
    "                print \"\\tmax(Jet.PT) = %10.2f GeV\" % Jet.PT[0]\n",
    "            else:\n",
    "                print\n",
    "        count += 1\n",
    "    \n",
    "        # copy jet data into map\n",
    "        for v in VARIABLES:\n",
    "            cmd = 'data[\"%s\"].append(Jet.%s[0])' % (v, v)\n",
    "            exec(cmd)\n",
    "    \n",
    "    # create dataframe\n",
    "    df = pd.DataFrame(data)\n",
    "    return df"
   ]
  },
  {
   "cell_type": "code",
   "execution_count": 8,
   "metadata": {},
   "outputs": [
    {
     "name": "stdout",
     "output_type": "stream",
     "text": [
      "    0\t    0\tnumber of jets: 1 \tmax(Jet.PT) =      22.66 GeV\n",
      "  675\t  500\tnumber of jets: 1 \tmax(Jet.PT) =      27.26 GeV\n",
      " 1360\t 1000\tnumber of jets: 1 \tmax(Jet.PT) =      23.15 GeV\n",
      " 2029\t 1500\tnumber of jets: 2 \tmax(Jet.PT) =      33.13 GeV\n",
      " 2740\t 2000\tnumber of jets: 1 \tmax(Jet.PT) =      23.32 GeV\n",
      " 3422\t 2500\tnumber of jets: 3 \tmax(Jet.PT) =      29.11 GeV\n",
      " 4149\t 3000\tnumber of jets: 1 \tmax(Jet.PT) =      31.77 GeV\n",
      " 4813\t 3500\tnumber of jets: 1 \tmax(Jet.PT) =      43.05 GeV\n",
      " 5499\t 4000\tnumber of jets: 1 \tmax(Jet.PT) =      26.67 GeV\n",
      " 6184\t 4500\tnumber of jets: 1 \tmax(Jet.PT) =      25.36 GeV\n",
      " 6900\t 5000\tnumber of jets: 4 \tmax(Jet.PT) =      81.77 GeV\n",
      " 7585\t 5500\tnumber of jets: 1 \tmax(Jet.PT) =      22.99 GeV\n",
      " 8287\t 6000\tnumber of jets: 1 \tmax(Jet.PT) =      33.76 GeV\n",
      " 8990\t 6500\tnumber of jets: 2 \tmax(Jet.PT) =      36.40 GeV\n",
      " 9687\t 7000\tnumber of jets: 1 \tmax(Jet.PT) =      22.54 GeV\n"
     ]
    }
   ],
   "source": [
    "gluon_df = create_dataframe(gluon_stream, gluon_entries)"
   ]
  },
  {
   "cell_type": "code",
   "execution_count": 9,
   "metadata": {},
   "outputs": [
    {
     "name": "stdout",
     "output_type": "stream",
     "text": [
      "    0\t    0\tnumber of jets: 1 \tmax(Jet.PT) =      23.17 GeV\n",
      "  595\t  500\tnumber of jets: 2 \tmax(Jet.PT) =      33.61 GeV\n",
      " 1180\t 1000\tnumber of jets: 2 \tmax(Jet.PT) =      54.39 GeV\n",
      " 1766\t 1500\tnumber of jets: 1 \tmax(Jet.PT) =      34.63 GeV\n",
      " 2348\t 2000\tnumber of jets: 1 \tmax(Jet.PT) =      32.97 GeV\n",
      " 2944\t 2500\tnumber of jets: 2 \tmax(Jet.PT) =      79.03 GeV\n",
      " 3520\t 3000\tnumber of jets: 1 \tmax(Jet.PT) =      27.64 GeV\n",
      " 4106\t 3500\tnumber of jets: 1 \tmax(Jet.PT) =      48.42 GeV\n",
      " 4705\t 4000\tnumber of jets: 2 \tmax(Jet.PT) =      37.17 GeV\n",
      " 5319\t 4500\tnumber of jets: 2 \tmax(Jet.PT) =      57.19 GeV\n",
      " 5925\t 5000\tnumber of jets: 1 \tmax(Jet.PT) =      29.14 GeV\n",
      " 6539\t 5500\tnumber of jets: 2 \tmax(Jet.PT) =      47.22 GeV\n",
      " 7151\t 6000\tnumber of jets: 3 \tmax(Jet.PT) =      29.73 GeV\n",
      " 7735\t 6500\tnumber of jets: 3 \tmax(Jet.PT) =      40.85 GeV\n",
      " 8316\t 7000\tnumber of jets: 2 \tmax(Jet.PT) =      32.84 GeV\n",
      " 8905\t 7500\tnumber of jets: 1 \tmax(Jet.PT) =      27.24 GeV\n",
      " 9503\t 8000\tnumber of jets: 2 \tmax(Jet.PT) =      39.58 GeV\n"
     ]
    }
   ],
   "source": [
    "quark_df = create_dataframe(quark_stream, quark_entries)"
   ]
  },
  {
   "cell_type": "code",
   "execution_count": 10,
   "metadata": {
    "scrolled": false
   },
   "outputs": [
    {
     "data": {
      "text/html": [
       "<div>\n",
       "<style scoped>\n",
       "    .dataframe tbody tr th:only-of-type {\n",
       "        vertical-align: middle;\n",
       "    }\n",
       "\n",
       "    .dataframe tbody tr th {\n",
       "        vertical-align: top;\n",
       "    }\n",
       "\n",
       "    .dataframe thead th {\n",
       "        text-align: right;\n",
       "    }\n",
       "</style>\n",
       "<table border=\"1\" class=\"dataframe\">\n",
       "  <thead>\n",
       "    <tr style=\"text-align: right;\">\n",
       "      <th></th>\n",
       "      <th>DeltaEta</th>\n",
       "      <th>DeltaPhi</th>\n",
       "      <th>EhadOverEem</th>\n",
       "      <th>Eta</th>\n",
       "      <th>Mass</th>\n",
       "      <th>PT</th>\n",
       "      <th>Phi</th>\n",
       "    </tr>\n",
       "  </thead>\n",
       "  <tbody>\n",
       "    <tr>\n",
       "      <th>0</th>\n",
       "      <td>0.375966</td>\n",
       "      <td>0.277239</td>\n",
       "      <td>999.900024</td>\n",
       "      <td>-2.679962</td>\n",
       "      <td>2.147405</td>\n",
       "      <td>22.656410</td>\n",
       "      <td>-1.427649</td>\n",
       "    </tr>\n",
       "    <tr>\n",
       "      <th>1</th>\n",
       "      <td>0.459896</td>\n",
       "      <td>0.419814</td>\n",
       "      <td>2.631649</td>\n",
       "      <td>-2.450224</td>\n",
       "      <td>8.874347</td>\n",
       "      <td>44.955269</td>\n",
       "      <td>2.754525</td>\n",
       "    </tr>\n",
       "    <tr>\n",
       "      <th>2</th>\n",
       "      <td>0.290180</td>\n",
       "      <td>0.311965</td>\n",
       "      <td>4.377754</td>\n",
       "      <td>-0.696398</td>\n",
       "      <td>6.363585</td>\n",
       "      <td>55.167706</td>\n",
       "      <td>2.846125</td>\n",
       "    </tr>\n",
       "    <tr>\n",
       "      <th>3</th>\n",
       "      <td>0.366486</td>\n",
       "      <td>0.445637</td>\n",
       "      <td>8.255860</td>\n",
       "      <td>-0.322402</td>\n",
       "      <td>7.027255</td>\n",
       "      <td>32.559612</td>\n",
       "      <td>0.264253</td>\n",
       "    </tr>\n",
       "    <tr>\n",
       "      <th>4</th>\n",
       "      <td>0.426155</td>\n",
       "      <td>0.373274</td>\n",
       "      <td>0.034841</td>\n",
       "      <td>2.080173</td>\n",
       "      <td>6.235765</td>\n",
       "      <td>31.985224</td>\n",
       "      <td>-2.166608</td>\n",
       "    </tr>\n",
       "  </tbody>\n",
       "</table>\n",
       "</div>"
      ],
      "text/plain": [
       "   DeltaEta  DeltaPhi  EhadOverEem       Eta      Mass         PT       Phi\n",
       "0  0.375966  0.277239   999.900024 -2.679962  2.147405  22.656410 -1.427649\n",
       "1  0.459896  0.419814     2.631649 -2.450224  8.874347  44.955269  2.754525\n",
       "2  0.290180  0.311965     4.377754 -0.696398  6.363585  55.167706  2.846125\n",
       "3  0.366486  0.445637     8.255860 -0.322402  7.027255  32.559612  0.264253\n",
       "4  0.426155  0.373274     0.034841  2.080173  6.235765  31.985224 -2.166608"
      ]
     },
     "execution_count": 10,
     "metadata": {},
     "output_type": "execute_result"
    }
   ],
   "source": [
    "gluon_df.head()"
   ]
  },
  {
   "cell_type": "code",
   "execution_count": 11,
   "metadata": {
    "scrolled": true
   },
   "outputs": [
    {
     "data": {
      "text/html": [
       "<div>\n",
       "<style scoped>\n",
       "    .dataframe tbody tr th:only-of-type {\n",
       "        vertical-align: middle;\n",
       "    }\n",
       "\n",
       "    .dataframe tbody tr th {\n",
       "        vertical-align: top;\n",
       "    }\n",
       "\n",
       "    .dataframe thead th {\n",
       "        text-align: right;\n",
       "    }\n",
       "</style>\n",
       "<table border=\"1\" class=\"dataframe\">\n",
       "  <thead>\n",
       "    <tr style=\"text-align: right;\">\n",
       "      <th></th>\n",
       "      <th>DeltaEta</th>\n",
       "      <th>DeltaPhi</th>\n",
       "      <th>EhadOverEem</th>\n",
       "      <th>Eta</th>\n",
       "      <th>Mass</th>\n",
       "      <th>PT</th>\n",
       "      <th>Phi</th>\n",
       "    </tr>\n",
       "  </thead>\n",
       "  <tbody>\n",
       "    <tr>\n",
       "      <th>0</th>\n",
       "      <td>0.222445</td>\n",
       "      <td>0.326124</td>\n",
       "      <td>6.036244</td>\n",
       "      <td>4.452917</td>\n",
       "      <td>3.191718</td>\n",
       "      <td>23.172693</td>\n",
       "      <td>1.443721</td>\n",
       "    </tr>\n",
       "    <tr>\n",
       "      <th>1</th>\n",
       "      <td>0.393108</td>\n",
       "      <td>0.461939</td>\n",
       "      <td>1.138960</td>\n",
       "      <td>-2.008915</td>\n",
       "      <td>9.285950</td>\n",
       "      <td>33.034618</td>\n",
       "      <td>-0.484234</td>\n",
       "    </tr>\n",
       "    <tr>\n",
       "      <th>2</th>\n",
       "      <td>0.442331</td>\n",
       "      <td>0.339111</td>\n",
       "      <td>0.405433</td>\n",
       "      <td>-0.014554</td>\n",
       "      <td>9.456988</td>\n",
       "      <td>37.236126</td>\n",
       "      <td>-0.454338</td>\n",
       "    </tr>\n",
       "    <tr>\n",
       "      <th>3</th>\n",
       "      <td>0.393513</td>\n",
       "      <td>0.339332</td>\n",
       "      <td>999.900024</td>\n",
       "      <td>-0.726491</td>\n",
       "      <td>8.174950</td>\n",
       "      <td>29.295322</td>\n",
       "      <td>0.902752</td>\n",
       "    </tr>\n",
       "    <tr>\n",
       "      <th>4</th>\n",
       "      <td>0.436766</td>\n",
       "      <td>0.417527</td>\n",
       "      <td>2.763639</td>\n",
       "      <td>-0.571988</td>\n",
       "      <td>8.410216</td>\n",
       "      <td>26.709070</td>\n",
       "      <td>1.107306</td>\n",
       "    </tr>\n",
       "  </tbody>\n",
       "</table>\n",
       "</div>"
      ],
      "text/plain": [
       "   DeltaEta  DeltaPhi  EhadOverEem       Eta      Mass         PT       Phi\n",
       "0  0.222445  0.326124     6.036244  4.452917  3.191718  23.172693  1.443721\n",
       "1  0.393108  0.461939     1.138960 -2.008915  9.285950  33.034618 -0.484234\n",
       "2  0.442331  0.339111     0.405433 -0.014554  9.456988  37.236126 -0.454338\n",
       "3  0.393513  0.339332   999.900024 -0.726491  8.174950  29.295322  0.902752\n",
       "4  0.436766  0.417527     2.763639 -0.571988  8.410216  26.709070  1.107306"
      ]
     },
     "execution_count": 11,
     "metadata": {},
     "output_type": "execute_result"
    }
   ],
   "source": [
    "quark_df.head()"
   ]
  },
  {
   "cell_type": "markdown",
   "metadata": {},
   "source": [
    "__Creating a label column. Gluon jet = 0, Quark jet = 1.__"
   ]
  },
  {
   "cell_type": "code",
   "execution_count": 12,
   "metadata": {},
   "outputs": [],
   "source": [
    "gluon_df.insert(7, \"Label\", 0)"
   ]
  },
  {
   "cell_type": "code",
   "execution_count": 13,
   "metadata": {
    "scrolled": true
   },
   "outputs": [],
   "source": [
    "quark_df.insert(7, \"Label\", 1)"
   ]
  },
  {
   "cell_type": "markdown",
   "metadata": {},
   "source": [
    "__Combining the quark and gluon dataframes.__"
   ]
  },
  {
   "cell_type": "code",
   "execution_count": 14,
   "metadata": {},
   "outputs": [],
   "source": [
    "full_df = pd.concat([gluon_df,quark_df], ignore_index=True)"
   ]
  },
  {
   "cell_type": "markdown",
   "metadata": {},
   "source": [
    "__Set a threshold for EhadOverEem and PT so that we can remove some outliers.__"
   ]
  },
  {
   "cell_type": "code",
   "execution_count": 15,
   "metadata": {},
   "outputs": [],
   "source": [
    "full_df = full_df[full_df['EhadOverEem']<20]"
   ]
  },
  {
   "cell_type": "code",
   "execution_count": 16,
   "metadata": {},
   "outputs": [],
   "source": [
    "full_df = full_df[full_df['PT']<100]"
   ]
  },
  {
   "cell_type": "markdown",
   "metadata": {},
   "source": [
    "__Before exploring the data any further, we must separate it into training and testing subsets.__"
   ]
  },
  {
   "cell_type": "code",
   "execution_count": 17,
   "metadata": {},
   "outputs": [],
   "source": [
    "df_train, df_test = train_test_split(full_df, test_size=.2)"
   ]
  },
  {
   "cell_type": "code",
   "execution_count": 18,
   "metadata": {},
   "outputs": [],
   "source": [
    "#Reset index\n",
    "df_train = df_train.sample(frac=1).reset_index(drop=True)\n",
    "df_test = df_test.sample(frac=1).reset_index(drop=True)"
   ]
  },
  {
   "cell_type": "markdown",
   "metadata": {},
   "source": [
    "## 3. Explore the data to gain insights."
   ]
  },
  {
   "cell_type": "code",
   "execution_count": 19,
   "metadata": {},
   "outputs": [
    {
     "data": {
      "text/html": [
       "<div>\n",
       "<style scoped>\n",
       "    .dataframe tbody tr th:only-of-type {\n",
       "        vertical-align: middle;\n",
       "    }\n",
       "\n",
       "    .dataframe tbody tr th {\n",
       "        vertical-align: top;\n",
       "    }\n",
       "\n",
       "    .dataframe thead th {\n",
       "        text-align: right;\n",
       "    }\n",
       "</style>\n",
       "<table border=\"1\" class=\"dataframe\">\n",
       "  <thead>\n",
       "    <tr style=\"text-align: right;\">\n",
       "      <th></th>\n",
       "      <th>DeltaEta</th>\n",
       "      <th>DeltaPhi</th>\n",
       "      <th>EhadOverEem</th>\n",
       "      <th>Eta</th>\n",
       "      <th>Mass</th>\n",
       "      <th>PT</th>\n",
       "      <th>Phi</th>\n",
       "      <th>Label</th>\n",
       "    </tr>\n",
       "  </thead>\n",
       "  <tbody>\n",
       "    <tr>\n",
       "      <th>0</th>\n",
       "      <td>0.425620</td>\n",
       "      <td>0.197410</td>\n",
       "      <td>0.000000</td>\n",
       "      <td>-0.098903</td>\n",
       "      <td>3.638270</td>\n",
       "      <td>24.228020</td>\n",
       "      <td>2.133220</td>\n",
       "      <td>0</td>\n",
       "    </tr>\n",
       "    <tr>\n",
       "      <th>1</th>\n",
       "      <td>0.405109</td>\n",
       "      <td>0.404700</td>\n",
       "      <td>1.269173</td>\n",
       "      <td>-1.184855</td>\n",
       "      <td>7.380755</td>\n",
       "      <td>23.865030</td>\n",
       "      <td>-0.394164</td>\n",
       "      <td>0</td>\n",
       "    </tr>\n",
       "    <tr>\n",
       "      <th>2</th>\n",
       "      <td>0.413168</td>\n",
       "      <td>0.132376</td>\n",
       "      <td>0.000000</td>\n",
       "      <td>-1.744913</td>\n",
       "      <td>4.444477</td>\n",
       "      <td>31.832907</td>\n",
       "      <td>-1.529382</td>\n",
       "      <td>1</td>\n",
       "    </tr>\n",
       "    <tr>\n",
       "      <th>3</th>\n",
       "      <td>0.236239</td>\n",
       "      <td>0.367415</td>\n",
       "      <td>0.090386</td>\n",
       "      <td>-0.859641</td>\n",
       "      <td>7.903760</td>\n",
       "      <td>50.023884</td>\n",
       "      <td>1.268816</td>\n",
       "      <td>1</td>\n",
       "    </tr>\n",
       "    <tr>\n",
       "      <th>4</th>\n",
       "      <td>0.372296</td>\n",
       "      <td>0.160944</td>\n",
       "      <td>0.147137</td>\n",
       "      <td>-2.245908</td>\n",
       "      <td>3.212725</td>\n",
       "      <td>25.297724</td>\n",
       "      <td>2.187561</td>\n",
       "      <td>1</td>\n",
       "    </tr>\n",
       "  </tbody>\n",
       "</table>\n",
       "</div>"
      ],
      "text/plain": [
       "   DeltaEta  DeltaPhi  EhadOverEem       Eta      Mass         PT       Phi  \\\n",
       "0  0.425620  0.197410     0.000000 -0.098903  3.638270  24.228020  2.133220   \n",
       "1  0.405109  0.404700     1.269173 -1.184855  7.380755  23.865030 -0.394164   \n",
       "2  0.413168  0.132376     0.000000 -1.744913  4.444477  31.832907 -1.529382   \n",
       "3  0.236239  0.367415     0.090386 -0.859641  7.903760  50.023884  1.268816   \n",
       "4  0.372296  0.160944     0.147137 -2.245908  3.212725  25.297724  2.187561   \n",
       "\n",
       "   Label  \n",
       "0      0  \n",
       "1      0  \n",
       "2      1  \n",
       "3      1  \n",
       "4      1  "
      ]
     },
     "execution_count": 19,
     "metadata": {},
     "output_type": "execute_result"
    }
   ],
   "source": [
    "df_train.head()"
   ]
  },
  {
   "cell_type": "code",
   "execution_count": 20,
   "metadata": {
    "scrolled": true
   },
   "outputs": [
    {
     "data": {
      "text/html": [
       "<div>\n",
       "<style scoped>\n",
       "    .dataframe tbody tr th:only-of-type {\n",
       "        vertical-align: middle;\n",
       "    }\n",
       "\n",
       "    .dataframe tbody tr th {\n",
       "        vertical-align: top;\n",
       "    }\n",
       "\n",
       "    .dataframe thead th {\n",
       "        text-align: right;\n",
       "    }\n",
       "</style>\n",
       "<table border=\"1\" class=\"dataframe\">\n",
       "  <thead>\n",
       "    <tr style=\"text-align: right;\">\n",
       "      <th></th>\n",
       "      <th>DeltaEta</th>\n",
       "      <th>DeltaPhi</th>\n",
       "      <th>EhadOverEem</th>\n",
       "      <th>Eta</th>\n",
       "      <th>Mass</th>\n",
       "      <th>PT</th>\n",
       "      <th>Phi</th>\n",
       "      <th>Label</th>\n",
       "    </tr>\n",
       "  </thead>\n",
       "  <tbody>\n",
       "    <tr>\n",
       "      <th>count</th>\n",
       "      <td>10632.000000</td>\n",
       "      <td>10632.000000</td>\n",
       "      <td>10632.000000</td>\n",
       "      <td>10632.000000</td>\n",
       "      <td>10632.000000</td>\n",
       "      <td>10632.000000</td>\n",
       "      <td>10632.000000</td>\n",
       "      <td>10632.000000</td>\n",
       "    </tr>\n",
       "    <tr>\n",
       "      <th>mean</th>\n",
       "      <td>0.312165</td>\n",
       "      <td>0.320413</td>\n",
       "      <td>2.534238</td>\n",
       "      <td>0.021345</td>\n",
       "      <td>6.182895</td>\n",
       "      <td>35.146090</td>\n",
       "      <td>0.019000</td>\n",
       "      <td>0.529722</td>\n",
       "    </tr>\n",
       "    <tr>\n",
       "      <th>std</th>\n",
       "      <td>0.099863</td>\n",
       "      <td>0.095469</td>\n",
       "      <td>3.494900</td>\n",
       "      <td>2.070298</td>\n",
       "      <td>2.437427</td>\n",
       "      <td>11.617225</td>\n",
       "      <td>1.807521</td>\n",
       "      <td>0.499139</td>\n",
       "    </tr>\n",
       "    <tr>\n",
       "      <th>min</th>\n",
       "      <td>0.000000</td>\n",
       "      <td>0.000000</td>\n",
       "      <td>0.000000</td>\n",
       "      <td>-4.972785</td>\n",
       "      <td>-0.000004</td>\n",
       "      <td>21.641485</td>\n",
       "      <td>-3.139137</td>\n",
       "      <td>0.000000</td>\n",
       "    </tr>\n",
       "    <tr>\n",
       "      <th>25%</th>\n",
       "      <td>0.244010</td>\n",
       "      <td>0.255107</td>\n",
       "      <td>0.327483</td>\n",
       "      <td>-1.448933</td>\n",
       "      <td>4.544411</td>\n",
       "      <td>26.923788</td>\n",
       "      <td>-1.531466</td>\n",
       "      <td>0.000000</td>\n",
       "    </tr>\n",
       "    <tr>\n",
       "      <th>50%</th>\n",
       "      <td>0.323171</td>\n",
       "      <td>0.332976</td>\n",
       "      <td>1.209322</td>\n",
       "      <td>0.025195</td>\n",
       "      <td>5.808767</td>\n",
       "      <td>31.966546</td>\n",
       "      <td>0.024685</td>\n",
       "      <td>1.000000</td>\n",
       "    </tr>\n",
       "    <tr>\n",
       "      <th>75%</th>\n",
       "      <td>0.389056</td>\n",
       "      <td>0.394938</td>\n",
       "      <td>3.191594</td>\n",
       "      <td>1.497678</td>\n",
       "      <td>7.356832</td>\n",
       "      <td>39.724183</td>\n",
       "      <td>1.568642</td>\n",
       "      <td>1.000000</td>\n",
       "    </tr>\n",
       "    <tr>\n",
       "      <th>max</th>\n",
       "      <td>0.613948</td>\n",
       "      <td>0.688472</td>\n",
       "      <td>19.937618</td>\n",
       "      <td>4.966076</td>\n",
       "      <td>25.546726</td>\n",
       "      <td>99.643860</td>\n",
       "      <td>3.140544</td>\n",
       "      <td>1.000000</td>\n",
       "    </tr>\n",
       "  </tbody>\n",
       "</table>\n",
       "</div>"
      ],
      "text/plain": [
       "           DeltaEta      DeltaPhi   EhadOverEem           Eta          Mass  \\\n",
       "count  10632.000000  10632.000000  10632.000000  10632.000000  10632.000000   \n",
       "mean       0.312165      0.320413      2.534238      0.021345      6.182895   \n",
       "std        0.099863      0.095469      3.494900      2.070298      2.437427   \n",
       "min        0.000000      0.000000      0.000000     -4.972785     -0.000004   \n",
       "25%        0.244010      0.255107      0.327483     -1.448933      4.544411   \n",
       "50%        0.323171      0.332976      1.209322      0.025195      5.808767   \n",
       "75%        0.389056      0.394938      3.191594      1.497678      7.356832   \n",
       "max        0.613948      0.688472     19.937618      4.966076     25.546726   \n",
       "\n",
       "                 PT           Phi         Label  \n",
       "count  10632.000000  10632.000000  10632.000000  \n",
       "mean      35.146090      0.019000      0.529722  \n",
       "std       11.617225      1.807521      0.499139  \n",
       "min       21.641485     -3.139137      0.000000  \n",
       "25%       26.923788     -1.531466      0.000000  \n",
       "50%       31.966546      0.024685      1.000000  \n",
       "75%       39.724183      1.568642      1.000000  \n",
       "max       99.643860      3.140544      1.000000  "
      ]
     },
     "execution_count": 20,
     "metadata": {},
     "output_type": "execute_result"
    }
   ],
   "source": [
    "df_train.describe()"
   ]
  },
  {
   "cell_type": "code",
   "execution_count": 21,
   "metadata": {
    "scrolled": true
   },
   "outputs": [
    {
     "name": "stdout",
     "output_type": "stream",
     "text": [
      "<class 'pandas.core.frame.DataFrame'>\n",
      "RangeIndex: 10632 entries, 0 to 10631\n",
      "Data columns (total 8 columns):\n",
      "DeltaEta       10632 non-null float64\n",
      "DeltaPhi       10632 non-null float64\n",
      "EhadOverEem    10632 non-null float64\n",
      "Eta            10632 non-null float64\n",
      "Mass           10632 non-null float64\n",
      "PT             10632 non-null float64\n",
      "Phi            10632 non-null float64\n",
      "Label          10632 non-null int64\n",
      "dtypes: float64(7), int64(1)\n",
      "memory usage: 664.6 KB\n"
     ]
    }
   ],
   "source": [
    "df_train.info()"
   ]
  },
  {
   "cell_type": "markdown",
   "metadata": {},
   "source": [
    "__Histograms for DeltaEta, DeltaPhi, Mass, EhadOverEem__"
   ]
  },
  {
   "cell_type": "code",
   "execution_count": 22,
   "metadata": {},
   "outputs": [],
   "source": [
    "df_train_gluon = df_train[df_train['Label']==0]\n",
    "df_train_quark = df_train[df_train['Label']==1]"
   ]
  },
  {
   "cell_type": "code",
   "execution_count": 23,
   "metadata": {},
   "outputs": [],
   "source": [
    "from matplotlib.patches import Rectangle"
   ]
  },
  {
   "cell_type": "code",
   "execution_count": 24,
   "metadata": {},
   "outputs": [],
   "source": [
    "def compare_hist(variable):\n",
    "    \n",
    "    cmd = 'y = df_train_gluon.%s' %variable\n",
    "    exec(cmd)\n",
    "    \n",
    "    cmd = 'y_ = df_train_quark.%s' %variable\n",
    "    exec(cmd)\n",
    "    \n",
    "    gluon = plt.hist(y, 50, alpha=0.5, color=\"red\", normed=1)\n",
    "    quark = plt.hist(y_, 50, alpha=0.5, color=\"blue\", normed=1)\n",
    "\n",
    "    plt.title(str(variable) + \" \" + \"comparison\", fontsize=20)\n",
    "    plt.xlabel(str(variable), fontsize=16)\n",
    "    plt.ylabel(\"Frequency\", fontsize=16)\n",
    "    plt.xticks(fontsize=14)  \n",
    "    plt.yticks(fontsize=14)\n",
    "    \n",
    "    handles = [Rectangle((0,0),1,1,color=c,ec=\"k\") for c in [\"red\",\"blue\"]]\n",
    "    labels= [\"gluon\",\"quark\"]\n",
    "    plt.legend(handles, labels, prop={'size': 14})\n",
    "    \n",
    "    plt.show()"
   ]
  },
  {
   "cell_type": "code",
   "execution_count": 25,
   "metadata": {},
   "outputs": [
    {
     "name": "stderr",
     "output_type": "stream",
     "text": [
      "/Library/Frameworks/Python.framework/Versions/2.7/lib/python2.7/site-packages/matplotlib/axes/_axes.py:6462: UserWarning: The 'normed' kwarg is deprecated, and has been replaced by the 'density' kwarg.\n",
      "  warnings.warn(\"The 'normed' kwarg is deprecated, and has been \"\n"
     ]
    },
    {
     "data": {
      "image/png": "[encoded data removed]",
      "text/plain": [
       "<Figure size 432x288 with 1 Axes>"
      ]
     },
     "metadata": {},
     "output_type": "display_data"
    }
   ],
   "source": [
    "compare_hist('DeltaEta')"
   ]
  },
  {
   "cell_type": "code",
   "execution_count": 26,
   "metadata": {},
   "outputs": [
    {
     "data": {
      "image/png": "[encoded data removed]",
      "text/plain": [
       "<Figure size 432x288 with 1 Axes>"
      ]
     },
     "metadata": {},
     "output_type": "display_data"
    }
   ],
   "source": [
    "compare_hist('DeltaPhi')"
   ]
  },
  {
   "cell_type": "code",
   "execution_count": 27,
   "metadata": {},
   "outputs": [
    {
     "data": {
      "image/png": "[encoded data removed]",
      "text/plain": [
       "<Figure size 432x288 with 1 Axes>"
      ]
     },
     "metadata": {},
     "output_type": "display_data"
    }
   ],
   "source": [
    "compare_hist('EhadOverEem')"
   ]
  },
  {
   "cell_type": "code",
   "execution_count": 28,
   "metadata": {},
   "outputs": [
    {
     "data": {
      "image/png": "[encoded data removed]",
      "text/plain": [
       "<Figure size 432x288 with 1 Axes>"
      ]
     },
     "metadata": {},
     "output_type": "display_data"
    }
   ],
   "source": [
    "compare_hist('Mass')"
   ]
  },
  {
   "cell_type": "code",
   "execution_count": 29,
   "metadata": {
    "scrolled": true
   },
   "outputs": [
    {
     "data": {
      "image/png": "[encoded data removed]",
      "text/plain": [
       "<Figure size 432x288 with 1 Axes>"
      ]
     },
     "metadata": {},
     "output_type": "display_data"
    }
   ],
   "source": [
    "compare_hist('PT')"
   ]
  },
  {
   "cell_type": "markdown",
   "metadata": {},
   "source": [
    "__Ratio plot for pTs__"
   ]
  },
  {
   "cell_type": "code",
   "execution_count": 30,
   "metadata": {
    "scrolled": true
   },
   "outputs": [
    {
     "data": {
      "image/png": "[encoded data removed]",
      "text/plain": [
       "<Figure size 432x288 with 1 Axes>"
      ]
     },
     "metadata": {},
     "output_type": "display_data"
    }
   ],
   "source": [
    "variable='PT'\n",
    "\n",
    "cmd = 'y = df_train_gluon.%s' %variable\n",
    "exec(cmd)\n",
    "    \n",
    "cmd = 'y_ = df_train_quark.%s' %variable\n",
    "exec(cmd)\n",
    "\n",
    "ns, bins, patches = plt.hist(y, 50, alpha=0, color=\"red\", normed=1)\n",
    "ns_, bins_, patches_ = plt.hist(y_, 50, alpha=0, color=\"blue\", normed=1)\n",
    "\n",
    "#gluon/quark ratio\n",
    "ns_ratio = ns/ns_\n",
    "\n",
    "#bar plot of ratio\n",
    "ratio_plot = plt.bar(bins[:-1],ns_ratio, alpha=0.5, color=\"orange\")\n",
    "\n",
    "plt.ylabel(\"Ratio (gluon/quark)\", fontsize=16)\n",
    "plt.xlabel(\"PT\", fontsize=16)\n",
    "plt.xticks(fontsize=14)  \n",
    "plt.yticks(fontsize=14)\n",
    "plt.yticks(np.arange(0, 4, 1.0))\n",
    "plt.hlines(1,20,100)\n",
    "\n",
    "plt.show()"
   ]
  },
  {
   "cell_type": "markdown",
   "metadata": {},
   "source": [
    "__Observations:__\n",
    "- \n",
    "- \n"
   ]
  },
  {
   "cell_type": "markdown",
   "metadata": {},
   "source": [
    "## 4. Prepare the data to better expose the underlying patters to ML algorithms."
   ]
  },
  {
   "cell_type": "markdown",
   "metadata": {},
   "source": [
    "We aren't binning the jets by pT. So the only thing to do is standardize the data by removing the mean and scaling to unit variance."
   ]
  },
  {
   "cell_type": "markdown",
   "metadata": {},
   "source": [
    "__Standardizing__"
   ]
  },
  {
   "cell_type": "code",
   "execution_count": 31,
   "metadata": {},
   "outputs": [],
   "source": [
    "y_train = df_train[['Label']].copy().values\n",
    "\n",
    "X_train = df_train.drop('Label',axis=1).values"
   ]
  },
  {
   "cell_type": "code",
   "execution_count": 32,
   "metadata": {},
   "outputs": [],
   "source": [
    "y_test = df_train[['Label']].copy().values\n",
    "\n",
    "X_test = df_train.drop('Label',axis=1).values"
   ]
  },
  {
   "cell_type": "code",
   "execution_count": 33,
   "metadata": {},
   "outputs": [],
   "source": [
    "from sklearn.preprocessing import StandardScaler\n",
    "\n",
    "X_train = StandardScaler().fit_transform(X_train)\n",
    "\n",
    "X_test = StandardScaler().fit_transform(X_test)"
   ]
  },
  {
   "cell_type": "code",
   "execution_count": 34,
   "metadata": {},
   "outputs": [
    {
     "data": {
      "text/plain": [
       "0"
      ]
     },
     "execution_count": 34,
     "metadata": {},
     "output_type": "execute_result"
    }
   ],
   "source": [
    "#mean is now 0.\n",
    "\n",
    "int(X_train.mean())"
   ]
  },
  {
   "cell_type": "code",
   "execution_count": 35,
   "metadata": {},
   "outputs": [
    {
     "data": {
      "text/plain": [
       "1"
      ]
     },
     "execution_count": 35,
     "metadata": {},
     "output_type": "execute_result"
    }
   ],
   "source": [
    "#standard deviation is now 1.\n",
    "\n",
    "int(X_train.std())"
   ]
  },
  {
   "cell_type": "markdown",
   "metadata": {},
   "source": [
    "## 5. Explore many different models and short-list the best ones."
   ]
  },
  {
   "cell_type": "markdown",
   "metadata": {},
   "source": [
    "I'll only experiment with SVC for now."
   ]
  },
  {
   "cell_type": "code",
   "execution_count": 36,
   "metadata": {},
   "outputs": [],
   "source": [
    "from sklearn.svm import SVC"
   ]
  },
  {
   "cell_type": "code",
   "execution_count": 37,
   "metadata": {},
   "outputs": [
    {
     "data": {
      "text/plain": [
       "SVC(C=1.0, cache_size=200, class_weight=None, coef0=0.0,\n",
       "  decision_function_shape='ovr', degree=3, gamma='auto', kernel='rbf',\n",
       "  max_iter=-1, probability=False, random_state=None, shrinking=True,\n",
       "  tol=0.001, verbose=False)"
      ]
     },
     "execution_count": 37,
     "metadata": {},
     "output_type": "execute_result"
    }
   ],
   "source": [
    "svm_clf = SVC()\n",
    "svm_clf.fit(X_train, np.ravel(y_train))"
   ]
  },
  {
   "cell_type": "code",
   "execution_count": 38,
   "metadata": {},
   "outputs": [],
   "source": [
    "from sklearn.model_selection import cross_val_score\n",
    "\n",
    "def cv_score(classifier):\n",
    "    score = cross_val_score(classifier, X_train, np.ravel(y_train), cv=5)\n",
    "    print \"Mean score:\", score.mean()"
   ]
  },
  {
   "cell_type": "code",
   "execution_count": 39,
   "metadata": {},
   "outputs": [],
   "source": [
    "#cv_score(svm_clf)"
   ]
  },
  {
   "cell_type": "markdown",
   "metadata": {},
   "source": [
    "## 6. Fine-tune your models and combine them into a great solution."
   ]
  },
  {
   "cell_type": "markdown",
   "metadata": {},
   "source": [
    "Now I will fine-tune the SVC parameters: \"gamma\" and \"C\"."
   ]
  },
  {
   "cell_type": "code",
   "execution_count": 40,
   "metadata": {},
   "outputs": [],
   "source": [
    "from sklearn.model_selection import RandomizedSearchCV\n",
    "from scipy.stats import reciprocal, uniform"
   ]
  },
  {
   "cell_type": "code",
   "execution_count": 41,
   "metadata": {},
   "outputs": [
    {
     "name": "stdout",
     "output_type": "stream",
     "text": [
      "Fitting 3 folds for each of 3 candidates, totalling 9 fits\n",
      "[CV] C=8.210564782195133, gamma=0.009869745298305851 .................\n",
      "[CV] .. C=8.210564782195133, gamma=0.009869745298305851, total=   1.7s\n",
      "[CV] C=8.210564782195133, gamma=0.009869745298305851 .................\n"
     ]
    },
    {
     "name": "stderr",
     "output_type": "stream",
     "text": [
      "[Parallel(n_jobs=1)]: Done   1 out of   1 | elapsed:    2.2s remaining:    0.0s\n"
     ]
    },
    {
     "name": "stdout",
     "output_type": "stream",
     "text": [
      "[CV] .. C=8.210564782195133, gamma=0.009869745298305851, total=   1.6s\n",
      "[CV] C=8.210564782195133, gamma=0.009869745298305851 .................\n",
      "[CV] .. C=8.210564782195133, gamma=0.009869745298305851, total=   1.5s\n",
      "[CV] C=7.771481225399438, gamma=0.03811873799337567 ..................\n",
      "[CV] ... C=7.771481225399438, gamma=0.03811873799337567, total=   1.9s\n",
      "[CV] C=7.771481225399438, gamma=0.03811873799337567 ..................\n",
      "[CV] ... C=7.771481225399438, gamma=0.03811873799337567, total=   1.9s\n",
      "[CV] C=7.771481225399438, gamma=0.03811873799337567 ..................\n",
      "[CV] ... C=7.771481225399438, gamma=0.03811873799337567, total=   2.0s\n",
      "[CV] C=9.05702683671655, gamma=0.02616095675610388 ...................\n",
      "[CV] .... C=9.05702683671655, gamma=0.02616095675610388, total=   1.9s\n",
      "[CV] C=9.05702683671655, gamma=0.02616095675610388 ...................\n",
      "[CV] .... C=9.05702683671655, gamma=0.02616095675610388, total=   1.9s\n",
      "[CV] C=9.05702683671655, gamma=0.02616095675610388 ...................\n",
      "[CV] .... C=9.05702683671655, gamma=0.02616095675610388, total=   1.9s\n"
     ]
    },
    {
     "name": "stderr",
     "output_type": "stream",
     "text": [
      "[Parallel(n_jobs=1)]: Done   9 out of   9 | elapsed:   21.4s finished\n"
     ]
    },
    {
     "data": {
      "text/plain": [
       "RandomizedSearchCV(cv=None, error_score='raise',\n",
       "          estimator=SVC(C=1.0, cache_size=200, class_weight=None, coef0=0.0,\n",
       "  decision_function_shape='ovr', degree=3, gamma='auto', kernel='rbf',\n",
       "  max_iter=-1, probability=False, random_state=None, shrinking=True,\n",
       "  tol=0.001, verbose=False),\n",
       "          fit_params=None, iid=True, n_iter=3, n_jobs=1,\n",
       "          param_distributions={'C': <scipy.stats._distn_infrastructure.rv_frozen object at 0x12291e610>, 'gamma': <scipy.stats._distn_infrastructure.rv_frozen object at 0x122829c10>},\n",
       "          pre_dispatch='2*n_jobs', random_state=None, refit=True,\n",
       "          return_train_score='warn', scoring=None, verbose=2)"
      ]
     },
     "execution_count": 41,
     "metadata": {},
     "output_type": "execute_result"
    }
   ],
   "source": [
    "param_distributions = {\"gamma\": reciprocal(0.001, 0.1), \"C\": uniform(1, 10)}\n",
    "\n",
    "svm_search = RandomizedSearchCV(svm_clf, param_distributions, n_iter=3, verbose=2)\n",
    "svm_search.fit(X_train, np.ravel(y_train))"
   ]
  },
  {
   "cell_type": "code",
   "execution_count": 42,
   "metadata": {},
   "outputs": [
    {
     "data": {
      "text/plain": [
       "SVC(C=7.771481225399438, cache_size=200, class_weight=None, coef0=0.0,\n",
       "  decision_function_shape='ovr', degree=3, gamma=0.03811873799337567,\n",
       "  kernel='rbf', max_iter=-1, probability=False, random_state=None,\n",
       "  shrinking=True, tol=0.001, verbose=False)"
      ]
     },
     "execution_count": 42,
     "metadata": {},
     "output_type": "execute_result"
    }
   ],
   "source": [
    "svm_search.best_estimator_"
   ]
  },
  {
   "cell_type": "code",
   "execution_count": 43,
   "metadata": {},
   "outputs": [
    {
     "data": {
      "text/plain": [
       "0.662528216704289"
      ]
     },
     "execution_count": 43,
     "metadata": {},
     "output_type": "execute_result"
    },
    {
     "name": "stdout",
     "output_type": "stream",
     "text": [
      "The history saving thread hit an unexpected error (OperationalError('unable to open database file',)).History will not be written to the database."
     ]
    },
    {
     "name": "stderr",
     "output_type": "stream",
     "text": [
      "Exception in thread IPythonHistorySavingThread:\n",
      "Traceback (most recent call last):\n",
      "  File \"/Library/Frameworks/Python.framework/Versions/2.7/lib/python2.7/threading.py\", line 801, in __bootstrap_inner\n",
      "  File \"<decorator-gen-24>\", line 2, in run\n",
      "  File \"/Library/Frameworks/Python.framework/Versions/2.7/lib/python2.7/site-packages/IPython/core/history.py\", line 60, in needs_sqlite\n",
      "  File \"/Library/Frameworks/Python.framework/Versions/2.7/lib/python2.7/site-packages/IPython/core/history.py\", line 843, in run\n",
      "  File \"/Library/Frameworks/Python.framework/Versions/2.7/lib/python2.7/site-packages/ipykernel/iostream.py\", line 376, in write\n",
      "  File \"/Library/Frameworks/Python.framework/Versions/2.7/lib/python2.7/site-packages/ipykernel/iostream.py\", line 203, in schedule\n",
      "  File \"/Library/Frameworks/Python.framework/Versions/2.7/lib/python2.7/site-packages/ipykernel/iostream.py\", line 101, in _event_pipe\n",
      "  File \"/Library/Frameworks/Python.framework/Versions/2.7/lib/python2.7/site-packages/zmq/sugar/context.py\", line 146, in socket\n",
      "  File \"/Library/Frameworks/Python.framework/Versions/2.7/lib/python2.7/site-packages/zmq/sugar/socket.py\", line 58, in __init__\n",
      "  File \"zmq/backend/cython/socket.pyx\", line 330, in zmq.backend.cython.socket.Socket.__init__\n",
      "ZMQError: Too many open files\n",
      "Unhandled exception in thread started by <bound method HistorySavingThread.__bootstrap of <HistorySavingThread(IPythonHistorySavingThread, stopped 123145495752704)>>\n",
      "ERROR:root:Internal Python error in the inspect module.\n",
      "Below is the traceback from this internal error.\n",
      "\n",
      "Traceback (most recent call last):\n",
      "Error in sys.excepthook:\n",
      "Traceback (most recent call last):\n",
      "\n",
      "\n",
      "Original exception was:\n",
      "Traceback (most recent call last):\n",
      "\n"
     ]
    }
   ],
   "source": [
    "svm_search.best_score_"
   ]
  },
  {
   "cell_type": "markdown",
   "metadata": {},
   "source": [
    "## 7. Present your solution."
   ]
  },
  {
   "cell_type": "markdown",
   "metadata": {},
   "source": [
    "__Accuracy__"
   ]
  },
  {
   "cell_type": "code",
   "execution_count": 44,
   "metadata": {},
   "outputs": [
    {
     "name": "stdout",
     "output_type": "stream",
     "text": [
      "Accuracy:  0.6711813393528969\n"
     ]
    }
   ],
   "source": [
    "y_pred = svm_search.best_estimator_.predict(X_test)\n",
    "\n",
    "print \"Accuracy: \", accuracy_score(y_test, y_pred)"
   ]
  },
  {
   "cell_type": "markdown",
   "metadata": {},
   "source": [
    "__ROC Curve__"
   ]
  },
  {
   "cell_type": "code",
   "execution_count": 45,
   "metadata": {
    "scrolled": true
   },
   "outputs": [],
   "source": [
    "#fpr, tpr, thresholds = roc_curve(y_test, y_pred)\n",
    "\n",
    "roc_auc = roc_auc_score(y_test, y_pred)"
   ]
  },
  {
   "cell_type": "code",
   "execution_count": 46,
   "metadata": {
    "scrolled": true
   },
   "outputs": [
    {
     "name": "stderr",
     "output_type": "stream",
     "text": [
      "ERROR:root:Internal Python error in the inspect module.\n",
      "Below is the traceback from this internal error.\n",
      "\n"
     ]
    },
    {
     "name": "stdout",
     "output_type": "stream",
     "text": [
      "Traceback (most recent call last):\n",
      "  File \"/Library/Frameworks/Python.framework/Versions/2.7/lib/python2.7/site-packages/IPython/core/ultratb.py\", line 1132, in get_records\n",
      "  File \"/Library/Frameworks/Python.framework/Versions/2.7/lib/python2.7/site-packages/IPython/core/ultratb.py\", line 313, in wrapped\n",
      "  File \"/Library/Frameworks/Python.framework/Versions/2.7/lib/python2.7/site-packages/IPython/core/ultratb.py\", line 358, in _fixed_getinnerframes\n",
      "  File \"/Library/Frameworks/Python.framework/Versions/2.7/lib/python2.7/inspect.py\", line 1051, in getinnerframes\n",
      "  File \"/Library/Frameworks/Python.framework/Versions/2.7/lib/python2.7/inspect.py\", line 1011, in getframeinfo\n",
      "  File \"/Library/Frameworks/Python.framework/Versions/2.7/lib/python2.7/inspect.py\", line 453, in getsourcefile\n",
      "  File \"/Library/Frameworks/Python.framework/Versions/2.7/lib/python2.7/inspect.py\", line 482, in getmodule\n",
      "  File \"/Library/Frameworks/Python.framework/Versions/2.7/lib/python2.7/inspect.py\", line 466, in getabsfile\n",
      "  File \"/Library/Frameworks/Python.framework/Versions/2.7/lib/python2.7/posixpath.py\", line 364, in abspath\n",
      "OSError: [Errno 24] Too many open files\n"
     ]
    },
    {
     "ename": "IndexError",
     "evalue": "string index out of range",
     "output_type": "error",
     "traceback": [
      "\u001b[0;31m-----------------------------------------------------------------\u001b[0m",
      "\u001b[0;31mIndexError\u001b[0m                      Traceback (most recent call last)",
      "\u001b[0;32m/Library/Frameworks/Python.framework/Versions/2.7/lib/python2.7/site-packages/IPython/core/interactiveshell.pyc\u001b[0m in \u001b[0;36mrun_code\u001b[0;34m(self, code_obj, result)\u001b[0m\n\u001b[1;32m   2897\u001b[0m             \u001b[0;32mif\u001b[0m \u001b[0mresult\u001b[0m \u001b[0;32mis\u001b[0m \u001b[0;32mnot\u001b[0m \u001b[0mNone\u001b[0m\u001b[0;34m:\u001b[0m\u001b[0;34m\u001b[0m\u001b[0m\n\u001b[1;32m   2898\u001b[0m                 \u001b[0mresult\u001b[0m\u001b[0;34m.\u001b[0m\u001b[0merror_in_exec\u001b[0m \u001b[0;34m=\u001b[0m \u001b[0msys\u001b[0m\u001b[0;34m.\u001b[0m\u001b[0mexc_info\u001b[0m\u001b[0;34m(\u001b[0m\u001b[0;34m)\u001b[0m\u001b[0;34m[\u001b[0m\u001b[0;36m1\u001b[0m\u001b[0;34m]\u001b[0m\u001b[0;34m\u001b[0m\u001b[0m\n\u001b[0;32m-> 2899\u001b[0;31m             \u001b[0mself\u001b[0m\u001b[0;34m.\u001b[0m\u001b[0mshowtraceback\u001b[0m\u001b[0;34m(\u001b[0m\u001b[0;34m)\u001b[0m\u001b[0;34m\u001b[0m\u001b[0m\n\u001b[0m\u001b[1;32m   2900\u001b[0m         \u001b[0;32melse\u001b[0m\u001b[0;34m:\u001b[0m\u001b[0;34m\u001b[0m\u001b[0m\n\u001b[1;32m   2901\u001b[0m             \u001b[0moutflag\u001b[0m \u001b[0;34m=\u001b[0m \u001b[0;36m0\u001b[0m\u001b[0;34m\u001b[0m\u001b[0m\n",
      "\u001b[0;32m/Library/Frameworks/Python.framework/Versions/2.7/lib/python2.7/site-packages/IPython/core/interactiveshell.pyc\u001b[0m in \u001b[0;36mshowtraceback\u001b[0;34m(self, exc_tuple, filename, tb_offset, exception_only)\u001b[0m\n\u001b[1;32m   1824\u001b[0m                     \u001b[0;32mexcept\u001b[0m \u001b[0mException\u001b[0m\u001b[0;34m:\u001b[0m\u001b[0;34m\u001b[0m\u001b[0m\n\u001b[1;32m   1825\u001b[0m                         stb = self.InteractiveTB.structured_traceback(etype,\n\u001b[0;32m-> 1826\u001b[0;31m                                             value, tb, tb_offset=tb_offset)\n\u001b[0m\u001b[1;32m   1827\u001b[0m \u001b[0;34m\u001b[0m\u001b[0m\n\u001b[1;32m   1828\u001b[0m                     \u001b[0mself\u001b[0m\u001b[0;34m.\u001b[0m\u001b[0m_showtraceback\u001b[0m\u001b[0;34m(\u001b[0m\u001b[0metype\u001b[0m\u001b[0;34m,\u001b[0m \u001b[0mvalue\u001b[0m\u001b[0;34m,\u001b[0m \u001b[0mstb\u001b[0m\u001b[0;34m)\u001b[0m\u001b[0;34m\u001b[0m\u001b[0m\n",
      "\u001b[0;32m/Library/Frameworks/Python.framework/Versions/2.7/lib/python2.7/site-packages/IPython/core/ultratb.pyc\u001b[0m in \u001b[0;36mstructured_traceback\u001b[0;34m(self, etype, value, tb, tb_offset, number_of_lines_of_context)\u001b[0m\n",
      "\u001b[0;32m/Library/Frameworks/Python.framework/Versions/2.7/lib/python2.7/site-packages/IPython/core/ultratb.pyc\u001b[0m in \u001b[0;36mstructured_traceback\u001b[0;34m(self, etype, value, tb, tb_offset, number_of_lines_of_context)\u001b[0m\n",
      "\u001b[0;32m/Library/Frameworks/Python.framework/Versions/2.7/lib/python2.7/site-packages/IPython/core/ultratb.pyc\u001b[0m in \u001b[0;36mstructured_traceback\u001b[0;34m(self, etype, evalue, etb, tb_offset, number_of_lines_of_context)\u001b[0m\n",
      "\u001b[0;31mIndexError\u001b[0m: string index out of range"
     ]
    },
    {
     "data": {
      "image/png": "[encoded data removed]",
      "text/plain": [
       "<Figure size 432x288 with 1 Axes>"
      ]
     },
     "metadata": {},
     "output_type": "display_data"
    }
   ],
   "source": [
    "plt.title('Receiver Operating Characteristic', fontsize=18)\n",
    "plt.plot(tpr,1-fpr, 'b', color='darkorange', label = 'AUC = %0.2f'% roc_auc)\n",
    "plt.legend(loc='lower left', fontsize=14)\n",
    "plt.plot([0,1],[1,0],'r--', color='navy')\n",
    "plt.xlim([0,1])\n",
    "plt.ylim([0,1])\n",
    "plt.ylabel('Gluon Jet Rejection (TNR)', fontsize=16)\n",
    "plt.xlabel('Quark Jet Efficiency (TPR)', fontsize=16)\n",
    "plt.xticks(fontsize=14)  \n",
    "plt.yticks(fontsize=14)\n",
    "\n",
    "plt.savefig(\"roc_sol3.png\")\n",
    "plt.show()"
   ]
  },
  {
   "cell_type": "markdown",
   "metadata": {},
   "source": [
    "__AUC__"
   ]
  },
  {
   "cell_type": "code",
   "execution_count": 47,
   "metadata": {},
   "outputs": [
    {
     "name": "stdout",
     "output_type": "stream",
     "text": [
      "AUC:  0.6716088068181819\n"
     ]
    }
   ],
   "source": [
    "print \"AUC: \", roc_auc"
   ]
  },
  {
   "cell_type": "markdown",
   "metadata": {},
   "source": [
    "## 8. Launch, monitor, and maintain your system."
   ]
  },
  {
   "cell_type": "code",
   "execution_count": null,
   "metadata": {},
   "outputs": [],
   "source": []
  },
  {
   "cell_type": "code",
   "execution_count": null,
   "metadata": {},
   "outputs": [],
   "source": []
  },
  {
   "cell_type": "markdown",
   "metadata": {},
   "source": [
    "***\n",
    "## Appendix"
   ]
  },
  {
   "cell_type": "markdown",
   "metadata": {},
   "source": [
    "Markdown examples: https://medium.com/ibm-data-science-experience/markdown-for-jupyter-notebooks-cheatsheet-386c05aeebed"
   ]
  },
  {
   "cell_type": "markdown",
   "metadata": {},
   "source": [
    "Latex examples:\n",
    "http://data-blog.udacity.com/posts/2016/10/latex-primer/"
   ]
  },
  {
   "cell_type": "code",
   "execution_count": null,
   "metadata": {},
   "outputs": [],
   "source": []
  }
 ],
 "metadata": {
  "kernelspec": {
   "display_name": "Python 2",
   "language": "python",
   "name": "python2"
  },
  "language_info": {
   "codemirror_mode": {
    "name": "ipython",
    "version": 2
   },
   "file_extension": ".py",
   "mimetype": "text/x-python",
   "name": "python",
   "nbconvert_exporter": "python",
   "pygments_lexer": "ipython2",
   "version": "2.7.14"
  }
 },
 "nbformat": 4,
 "nbformat_minor": 2
}
